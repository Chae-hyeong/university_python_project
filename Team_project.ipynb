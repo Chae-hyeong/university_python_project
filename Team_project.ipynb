import csv  #csv파일을 처리하기 위한 모듈
import random  #난수 생성
from tkinter import *  #GUI 프로그램을 작성하기 위한 모듈

#음식 추천 시스템을 구현하는 클래스
class DinnerMenuRecommendationSystem:  
    def __init__(self, root): # __init__ 클래스의 생성자 메서드. 객체가 생성될 때 호출되는 메서드. Tkinter 창을 초기화한다.
        # Tkinter 창 초기화
        self.root = root
        self.root.title("Dinner Menu Recommendation System")
        self.root.geometry("800x600")  # 창 크기 조정

        self.theme_label = Label(root, text="먹고 싶은 음식의 테마를 선택하세요(한식,일식,중식):")  #텍스트 표시 Label 위젯
        self.theme_label.pack()   

        self.theme_var = StringVar()   #문자열 저장
        self.theme_entry = Entry(root, textvariable=self.theme_var)   #사용자 입력 받음
        self.theme_entry.pack()

        self.type_label = Label(root, text="먹고 싶은 종류를 선택하세요:\n(밥, 고기, 찌개, 떡, 전, 면, 회)")
        self.type_label.pack()

        self.type_var = StringVar()
        self.type_entry = Entry(root, textvariable=self.type_var)
        self.type_entry.pack()
        
        #버튼 생성
        self.recommend_button = Button(root, text="음식 재료 추천받기", command=self.recommend_dinner)#버튼 클릭시 'recommend_dinner' 실행
        self.recommend_button.pack()   
        
        # 음식 재료를 표시할 레이블
        self.ingredients_label = Label(root, text="")
        self.ingredients_label.pack()
        
        #사용자가 입력한 재료를 받기 위한 레이블과 엔트리 위젯
        self.user_ingredients_label = Label(root, text="맘에 드는 재료를 선택하세요 (쉼표로 구분): ")
        self.user_ingredients_label.pack()
        
        
        self.user_ingredients_var = StringVar()
        self.user_ingredients_entry = Entry(root, textvariable=self.user_ingredients_var)
        self.user_ingredients_entry.pack()
        
        # 사용자에게 음식을 추천하기 위한 버튼
        self.user_recommend_button = Button(root, text="음식 추천 받기", command=self.recommend_by_user_input)
        self.user_recommend_button.pack()
        
        #결과를 표시할 레이블
        self.result_label = Label(root, text="")
        self.result_label.pack()

        # CSV 파일 읽기
        self.header, self.csv_data = self.read_csv('recipe.csv')

    def read_csv(self, file_path):
        #csv파일 읽기 메서드
        data = []
        with open(file_path, newline='', encoding='utf-8') as csvfile:
            reader = csv.reader(csvfile)
            header = next(reader)  # 첫 행은 헤더
            for row in reader:
                data.append(row)
        return header, data

    def filter_food(self, theme, food_type):
        #테마와 종류에 맞는 음식 필터링 메서드
        filtered_data = []
        for row in self.csv_data:
            if row[1] == theme and row[2] == food_type:
                filtered_data.append(row)
        return filtered_data

    def recommend_ingredients(self, filtered_data):
        #추천 음식 재료 메서드
        all_ingredients = [ingredient for food in filtered_data for ingredient in food[3:]]
        recommended_ingredients = random.sample([ing for ing in all_ingredients if ing], min(3, len(all_ingredients)))

        return recommended_ingredients

    def recommend_dinner(self):
        #츰식 추천 버튼을 눌렀을 떄 실행되는 메서드
        theme_choice = self.theme_var.get()
        type_choice = self.type_var.get()

        # 테마와 종류에 해당하는 모든 음식 필터링
        filtered_data = self.filter_food(theme_choice, type_choice)

        if not filtered_data:
            self.ingredients_label.config(text="해당하는 음식이 없습니다.")
            return

        # 모든 음식의 재료 중에서만 3가지를 랜덤으로 제시
        recommended_ingredients = self.recommend_ingredients(filtered_data)
        self.ingredients_label.config(text=f"추천 음식 재료: {', '.join(recommended_ingredients)}")

    def recommend_dishes_helper(self, selected_ingredients):
        #사용자가 선택한 재료를 기반으로 음식을 추천하는 보조 메서드
        theme_choice = self.theme_var.get()
        type_choice = self.type_var.get()

        recommended_dishes = [
            row[0] for row in self.csv_data
            if row[1] == theme_choice
            and row[2] == type_choice
            and all(ingredient in row[3:] for ingredient in selected_ingredients)
        ]

        return recommended_dishes

    def recommend_by_user_input(self):
        #사용자가 입력한 재료를 기반으로 음식을 추천하는 메서드
        selected_ingredients = [ingredient.strip() for ingredient in self.user_ingredients_var.get().split(',')]

        if not selected_ingredients:
            self.result_label.config(text="선택된 재료가 없습니다. 다시 입력해주세요.")
            return

        # 선택된 재료가 추천된 재료에 속하는지 확인
        recommended_ingredients = self.ingredients_label.cget("text").split(':')[1].split(', ')
        if not all(ing in recommended_ingredients for ing in selected_ingredients):
            self.result_label.config(text="선택된 재료 중 추천된 재료에 속하지 않는 재료가 있습니다. 다시 입력해주세요.")
            return

        # 선택된 재료에 맞고, 테마와 종류에도 맞는 음식 추천
        recommended_dishes = self.recommend_dishes_helper(selected_ingredients)

        if not recommended_dishes:
            self.result_label.config(text="해당하는 음식이 없습니다. 다시 입력해주세요.")
            return

        # 중복된 음식 제거하고 랜덤하게 3가지 음식 선택 또는 전체 음식 중 하나 선택
        num_recommendations = min(3, len(recommended_dishes))
        result_str = "\n추천 음식:\n"
        for i, food in enumerate(random.sample(recommended_dishes, num_recommendations), start=1):
            result_str += f"{i}. {food}\n"
        self.result_label.config(text=result_str)

if __name__ == "__main__":
    root = Tk()
    app = DinnerMenuRecommendationSystem(root)
    root.mainloop()
